{
 "cells": [
  {
   "cell_type": "markdown",
   "metadata": {},
   "source": [
    "## 練習時間\n",
    "資料的操作有很多，接下來的馬拉松中我們會介紹常被使用到的操作，參加者不妨先自行想像一下，第一次看到資料，我們一般會想知道什麼訊息？\n",
    "\n",
    "#### Ex: 如何知道資料的 row 數以及 column 數、有什麼欄位、多少欄位、如何截取部分的資料等等\n",
    "\n",
    "有了對資料的好奇之後，我們又怎麼通過程式碼來達成我們的目的呢？\n",
    "\n",
    "#### 可參考該[基礎教材](https://bookdata.readthedocs.io/en/latest/base/01_pandas.html#DataFrame-%E5%85%A5%E9%97%A8)或自行 google"
   ]
  },
  {
   "cell_type": "code",
   "execution_count": 1,
   "metadata": {},
   "outputs": [],
   "source": [
    "import os\n",
    "import numpy as np\n",
    "import pandas as pd"
   ]
  },
  {
   "cell_type": "code",
   "execution_count": 12,
   "metadata": {},
   "outputs": [],
   "source": [
    "# 設定 data_path\n",
    "dir_data = './data/'"
   ]
  },
  {
   "cell_type": "code",
   "execution_count": 22,
   "metadata": {},
   "outputs": [],
   "source": [
    "f_app = os.path.join(dir_data, 'HomeCredit_columns_description.csv')\n",
    "#print('Path of read in data: %s' % (f_app))\n",
    "data = pd.read_csv(f_app, encoding='ISO-8859-1')\n",
    "#app_train.head()"
   ]
  },
  {
   "cell_type": "markdown",
   "metadata": {},
   "source": [
    "### 如果沒有想法，可以先嘗試找出剛剛例子中提到的問題的答案\n",
    "#### 資料的 row 數以及 column 數"
   ]
  },
  {
   "cell_type": "code",
   "execution_count": 34,
   "metadata": {},
   "outputs": [
    {
     "name": "stdout",
     "output_type": "stream",
     "text": [
      "This data has 219 rows and 5 columns\n"
     ]
    }
   ],
   "source": [
    "data_cols = data.columns\n",
    "data_rows = data.index\n",
    "print('This data has %d rows and %d columns' %(len(data_rows), len(data_cols)))"
   ]
  },
  {
   "cell_type": "markdown",
   "metadata": {},
   "source": [
    "#### 列出所有欄位"
   ]
  },
  {
   "cell_type": "code",
   "execution_count": 37,
   "metadata": {},
   "outputs": [
    {
     "name": "stdout",
     "output_type": "stream",
     "text": [
      "['Unnamed: 0', 'Table', 'Row', 'Description', 'Special']\n"
     ]
    }
   ],
   "source": [
    "print(data_cols.tolist())"
   ]
  },
  {
   "cell_type": "markdown",
   "metadata": {},
   "source": [
    "#### 截取部分資料"
   ]
  },
  {
   "cell_type": "code",
   "execution_count": 40,
   "metadata": {},
   "outputs": [
    {
     "data": {
      "text/html": [
       "<div>\n",
       "<style scoped>\n",
       "    .dataframe tbody tr th:only-of-type {\n",
       "        vertical-align: middle;\n",
       "    }\n",
       "\n",
       "    .dataframe tbody tr th {\n",
       "        vertical-align: top;\n",
       "    }\n",
       "\n",
       "    .dataframe thead th {\n",
       "        text-align: right;\n",
       "    }\n",
       "</style>\n",
       "<table border=\"1\" class=\"dataframe\">\n",
       "  <thead>\n",
       "    <tr style=\"text-align: right;\">\n",
       "      <th></th>\n",
       "      <th>Unnamed: 0</th>\n",
       "      <th>Table</th>\n",
       "      <th>Row</th>\n",
       "      <th>Description</th>\n",
       "      <th>Special</th>\n",
       "    </tr>\n",
       "  </thead>\n",
       "  <tbody>\n",
       "    <tr>\n",
       "      <th>100</th>\n",
       "      <td>103</td>\n",
       "      <td>application_{train|test}.csv</td>\n",
       "      <td>FLAG_DOCUMENT_6</td>\n",
       "      <td>Did client provide document 6</td>\n",
       "      <td>NaN</td>\n",
       "    </tr>\n",
       "    <tr>\n",
       "      <th>101</th>\n",
       "      <td>104</td>\n",
       "      <td>application_{train|test}.csv</td>\n",
       "      <td>FLAG_DOCUMENT_7</td>\n",
       "      <td>Did client provide document 7</td>\n",
       "      <td>NaN</td>\n",
       "    </tr>\n",
       "    <tr>\n",
       "      <th>102</th>\n",
       "      <td>105</td>\n",
       "      <td>application_{train|test}.csv</td>\n",
       "      <td>FLAG_DOCUMENT_8</td>\n",
       "      <td>Did client provide document 8</td>\n",
       "      <td>NaN</td>\n",
       "    </tr>\n",
       "    <tr>\n",
       "      <th>103</th>\n",
       "      <td>106</td>\n",
       "      <td>application_{train|test}.csv</td>\n",
       "      <td>FLAG_DOCUMENT_9</td>\n",
       "      <td>Did client provide document 9</td>\n",
       "      <td>NaN</td>\n",
       "    </tr>\n",
       "    <tr>\n",
       "      <th>104</th>\n",
       "      <td>107</td>\n",
       "      <td>application_{train|test}.csv</td>\n",
       "      <td>FLAG_DOCUMENT_10</td>\n",
       "      <td>Did client provide document 10</td>\n",
       "      <td>NaN</td>\n",
       "    </tr>\n",
       "    <tr>\n",
       "      <th>105</th>\n",
       "      <td>108</td>\n",
       "      <td>application_{train|test}.csv</td>\n",
       "      <td>FLAG_DOCUMENT_11</td>\n",
       "      <td>Did client provide document 11</td>\n",
       "      <td>NaN</td>\n",
       "    </tr>\n",
       "    <tr>\n",
       "      <th>106</th>\n",
       "      <td>109</td>\n",
       "      <td>application_{train|test}.csv</td>\n",
       "      <td>FLAG_DOCUMENT_12</td>\n",
       "      <td>Did client provide document 12</td>\n",
       "      <td>NaN</td>\n",
       "    </tr>\n",
       "    <tr>\n",
       "      <th>107</th>\n",
       "      <td>110</td>\n",
       "      <td>application_{train|test}.csv</td>\n",
       "      <td>FLAG_DOCUMENT_13</td>\n",
       "      <td>Did client provide document 13</td>\n",
       "      <td>NaN</td>\n",
       "    </tr>\n",
       "    <tr>\n",
       "      <th>108</th>\n",
       "      <td>111</td>\n",
       "      <td>application_{train|test}.csv</td>\n",
       "      <td>FLAG_DOCUMENT_14</td>\n",
       "      <td>Did client provide document 14</td>\n",
       "      <td>NaN</td>\n",
       "    </tr>\n",
       "    <tr>\n",
       "      <th>109</th>\n",
       "      <td>112</td>\n",
       "      <td>application_{train|test}.csv</td>\n",
       "      <td>FLAG_DOCUMENT_15</td>\n",
       "      <td>Did client provide document 15</td>\n",
       "      <td>NaN</td>\n",
       "    </tr>\n",
       "  </tbody>\n",
       "</table>\n",
       "</div>"
      ],
      "text/plain": [
       "     Unnamed: 0                         Table               Row  \\\n",
       "100         103  application_{train|test}.csv   FLAG_DOCUMENT_6   \n",
       "101         104  application_{train|test}.csv   FLAG_DOCUMENT_7   \n",
       "102         105  application_{train|test}.csv   FLAG_DOCUMENT_8   \n",
       "103         106  application_{train|test}.csv   FLAG_DOCUMENT_9   \n",
       "104         107  application_{train|test}.csv  FLAG_DOCUMENT_10   \n",
       "105         108  application_{train|test}.csv  FLAG_DOCUMENT_11   \n",
       "106         109  application_{train|test}.csv  FLAG_DOCUMENT_12   \n",
       "107         110  application_{train|test}.csv  FLAG_DOCUMENT_13   \n",
       "108         111  application_{train|test}.csv  FLAG_DOCUMENT_14   \n",
       "109         112  application_{train|test}.csv  FLAG_DOCUMENT_15   \n",
       "\n",
       "                        Description Special  \n",
       "100   Did client provide document 6     NaN  \n",
       "101   Did client provide document 7     NaN  \n",
       "102   Did client provide document 8     NaN  \n",
       "103   Did client provide document 9     NaN  \n",
       "104  Did client provide document 10     NaN  \n",
       "105  Did client provide document 11     NaN  \n",
       "106  Did client provide document 12     NaN  \n",
       "107  Did client provide document 13     NaN  \n",
       "108  Did client provide document 14     NaN  \n",
       "109  Did client provide document 15     NaN  "
      ]
     },
     "execution_count": 40,
     "metadata": {},
     "output_type": "execute_result"
    }
   ],
   "source": [
    "data[100:110]"
   ]
  },
  {
   "cell_type": "markdown",
   "metadata": {},
   "source": [
    "#### 還有各種數之不盡的資料操作，重點還是取決於實務中遇到的狀況和你想問的問題，在馬拉松中我們也會陸續提到更多例子"
   ]
  }
 ],
 "metadata": {
  "kernelspec": {
   "display_name": "Python 3",
   "language": "python",
   "name": "python3"
  },
  "language_info": {
   "codemirror_mode": {
    "name": "ipython",
    "version": 3
   },
   "file_extension": ".py",
   "mimetype": "text/x-python",
   "name": "python",
   "nbconvert_exporter": "python",
   "pygments_lexer": "ipython3",
   "version": "3.6.8"
  }
 },
 "nbformat": 4,
 "nbformat_minor": 2
}
